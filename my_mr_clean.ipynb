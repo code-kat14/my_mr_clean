{
 "cells": [
  {
   "cell_type": "code",
   "execution_count": null,
   "metadata": {},
   "outputs": [],
   "source": [
    "import requests\n",
    "from bs4 import BeautifulSoup\n",
    "from collections import defaultdict\n",
    "import re\n",
    "import matplotlib.pyplot as plt\n",
    "import pandas as pd\n",
    "import numpy as np\n",
    "%matplotlib inline"
   ]
  },
  {
   "cell_type": "code",
   "execution_count": null,
   "metadata": {},
   "outputs": [],
   "source": [
    "\n",
    "wiki_api = \"https://en.wikipedia.org/w/api.php\"\n",
    "def get_content(article_name):\n",
    "    parameters = { \"action\": \"parse\", \n",
    "                  \"page\": article_name,\n",
    "                  \"format\": \"json\",\n",
    "                  \"prop\": \"text\",\n",
    "                  \"formatversion\": 2\n",
    "                  }\n",
    "                  \n",
    "    response = requests.get(wiki_api, params=parameters).json()\n",
    "    return response"
   ]
  },
  {
   "cell_type": "code",
   "execution_count": null,
   "metadata": {},
   "outputs": [],
   "source": [
    "def merge_contents(data):\n",
    "    data = data['parse']['text'].lower()\n",
    "    soup = BeautifulSoup(data, 'html.parser')\n",
    "    raw_text = soup.get_text()\n",
    "    raw_list = raw_text.split()\n",
    "    \n",
    "    return raw_list\n"
   ]
  },
  {
   "cell_type": "code",
   "execution_count": null,
   "metadata": {},
   "outputs": [],
   "source": [
    "def tokenize(content):\n",
    "    cleaned_list = []\n",
    " \n",
    "    for index, string in enumerate(content):\n",
    "        content[index] = string.replace(\"'\", \"\")\n",
    "        if content[index].isalpha():\n",
    "            cleaned_list.append(string)\n",
    "    \n",
    "    for index, string in enumerate(cleaned_list):\n",
    "        cleaned_list[index] = re.sub(r'\\.+', '', string)\n",
    "\n",
    "    # print(f'raw_list = {content}')\n",
    "    # print(f'cleaned_list = {cleaned_list}')\n",
    "    return cleaned_list"
   ]
  },
  {
   "cell_type": "code",
   "execution_count": null,
   "metadata": {},
   "outputs": [],
   "source": [
    "def count_frequency(collection):\n",
    "    word_count = defaultdict(int)\n",
    "\n",
    "    for word in collection:\n",
    "        word_count[word] += 1\n",
    "\n",
    "    return word_count\n",
    "    "
   ]
  },
  {
   "cell_type": "code",
   "execution_count": null,
   "metadata": {},
   "outputs": [],
   "source": [
    "def print_most_frequent(frequencies, n):\n",
    "    #convert to list to slice and iterate up to n (finding the top most used words)\n",
    "    sorted_words = sorted(frequencies.items(), key=lambda item: item[1], reverse=True)\n",
    "\n",
    "    return sorted_words[:n]"
   ]
  },
  {
   "cell_type": "code",
   "execution_count": null,
   "metadata": {},
   "outputs": [],
   "source": [
    "def visualize_data(sorted_data):\n",
    " \n",
    "    df = pd.DataFrame(sorted_data, columns=['word', 'frequency'])\n",
    "    df = df.sort_values('frequency', ascending=True)\n",
    "    df.plot(kind='barh', x='word', legend=False)\n",
    "    plt.xlabel('Frequency')\n",
    "    plt.ylabel('Word')\n",
    "    plt.title('Most common tokens in ozone article')\n",
    "    plt.show()"
   ]
  },
  {
   "cell_type": "code",
   "execution_count": null,
   "metadata": {},
   "outputs": [],
   "source": [
    "data = get_content(\"Ozone_layer\")\n",
    "merge_content = merge_contents(data)\n",
    "collection = tokenize(merge_content)\n",
    "frequencies = count_frequency(collection)\n",
    "cleaned_sorted_data = print_most_frequent(frequencies, 20)\n",
    "visualize_data(cleaned_sorted_data)\n"
   ]
  },
  {
   "cell_type": "markdown",
   "metadata": {},
   "source": [
    "TODO : \n",
    "1. get rid of math html text in data output [X]\n",
    "2. seperate words from words in paranthesis example = examp[word] ->> 'examp', 'word' [X]\n",
    "3. extract only plain text from list [X]\n",
    "4. count frequency of each word\n",
    "5. find top n number of words [X]\n",
    "6. vizualize output of top words used []\n",
    "7. parse filler words ..(the, of, this, that etc..) []\n"
   ]
  }
 ],
 "metadata": {
  "kernelspec": {
   "display_name": "base",
   "language": "python",
   "name": "python3"
  },
  "language_info": {
   "codemirror_mode": {
    "name": "ipython",
    "version": 3
   },
   "file_extension": ".py",
   "mimetype": "text/x-python",
   "name": "python",
   "nbconvert_exporter": "python",
   "pygments_lexer": "ipython3",
   "version": "3.12.7"
  }
 },
 "nbformat": 4,
 "nbformat_minor": 2
}
